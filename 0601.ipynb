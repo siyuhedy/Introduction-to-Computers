{
  "nbformat": 4,
  "nbformat_minor": 0,
  "metadata": {
    "colab": {
      "name": "0601.ipynb",
      "provenance": [],
      "authorship_tag": "ABX9TyMMeFiGz14vNLUBqLMeSHvl",
      "include_colab_link": true
    },
    "kernelspec": {
      "name": "python3",
      "display_name": "Python 3"
    },
    "language_info": {
      "name": "python"
    }
  },
  "cells": [
    {
      "cell_type": "markdown",
      "metadata": {
        "id": "view-in-github",
        "colab_type": "text"
      },
      "source": [
        "<a href=\"https://colab.research.google.com/github/siyuhedy/Introduction-to-Computers/blob/main/0601.ipynb\" target=\"_parent\"><img src=\"https://colab.research.google.com/assets/colab-badge.svg\" alt=\"Open In Colab\"/></a>"
      ]
    },
    {
      "cell_type": "code",
      "execution_count": 2,
      "metadata": {
        "colab": {
          "base_uri": "https://localhost:8080/"
        },
        "id": "isTN_RN0nWk_",
        "outputId": "ed1f039d-5527-4ca6-e98b-805cc1a2f87d"
      },
      "outputs": [
        {
          "output_type": "stream",
          "name": "stdout",
          "text": [
            "0601\n"
          ]
        }
      ],
      "source": [
        "print('0601')"
      ]
    },
    {
      "cell_type": "code",
      "source": [
        "for i in range(2,10):\n",
        "    for j in range(1,10):\n",
        "        product = i * j\n",
        "        print(\"%d*%d=%2d\"  % (i, j, product), end=' ')\n",
        "    print()"
      ],
      "metadata": {
        "colab": {
          "base_uri": "https://localhost:8080/"
        },
        "id": "vzafZkzxncKS",
        "outputId": "99107809-466e-4837-e263-e149d9bab574"
      },
      "execution_count": 15,
      "outputs": [
        {
          "output_type": "stream",
          "name": "stdout",
          "text": [
            "2*1= 2 2*2= 4 2*3= 6 2*4= 8 2*5=10 2*6=12 2*7=14 2*8=16 2*9=18 \n",
            "3*1= 3 3*2= 6 3*3= 9 3*4=12 3*5=15 3*6=18 3*7=21 3*8=24 3*9=27 \n",
            "4*1= 4 4*2= 8 4*3=12 4*4=16 4*5=20 4*6=24 4*7=28 4*8=32 4*9=36 \n",
            "5*1= 5 5*2=10 5*3=15 5*4=20 5*5=25 5*6=30 5*7=35 5*8=40 5*9=45 \n",
            "6*1= 6 6*2=12 6*3=18 6*4=24 6*5=30 6*6=36 6*7=42 6*8=48 6*9=54 \n",
            "7*1= 7 7*2=14 7*3=21 7*4=28 7*5=35 7*6=42 7*7=49 7*8=56 7*9=63 \n",
            "8*1= 8 8*2=16 8*3=24 8*4=32 8*5=40 8*6=48 8*7=56 8*8=64 8*9=72 \n",
            "9*1= 9 9*2=18 9*3=27 9*4=36 9*5=45 9*6=54 9*7=63 9*8=72 9*9=81 \n"
          ]
        }
      ]
    },
    {
      "cell_type": "code",
      "source": [
        "a = int(input('請輸入a的值'))\n",
        "b = int(input('請輸入b的值'))\n",
        "\n",
        "maxno = a * b\n",
        "for i in range(1,maxno+1):\n",
        "    if(i % a ==0 and i % b == 0):\n",
        "        break\n",
        "print(\"%d和 %d的最小公倍數 = %d\" %(a,b,i))"
      ],
      "metadata": {
        "colab": {
          "base_uri": "https://localhost:8080/"
        },
        "id": "-bq7e9rQopDK",
        "outputId": "9542721e-8994-4dec-c49e-bebbfef4d41b"
      },
      "execution_count": 12,
      "outputs": [
        {
          "output_type": "stream",
          "name": "stdout",
          "text": [
            "請輸入a的值5\n",
            "請輸入b的值4\n",
            "5和 4的最小公倍數 = 20\n"
          ]
        }
      ]
    },
    {
      "cell_type": "markdown",
      "source": [
        "數列排除5"
      ],
      "metadata": {
        "id": "ync8ot_Gs_Tc"
      }
    },
    {
      "cell_type": "code",
      "source": [
        "n = int(input(\"請輸入一個正整數：\"))\n",
        "for i in range(1, n+1):\n",
        "    if i % 5 ==0:\n",
        "        continue\n",
        "    print(i, end=\" \")"
      ],
      "metadata": {
        "colab": {
          "base_uri": "https://localhost:8080/"
        },
        "id": "Xe3IwYDXqgRU",
        "outputId": "f2da0f7e-b9e1-40d1-d572-ef727a53dd14"
      },
      "execution_count": 14,
      "outputs": [
        {
          "output_type": "stream",
          "name": "stdout",
          "text": [
            "請輸入一個正整數：25\n",
            "1 2 3 4 6 7 8 9 11 12 13 14 16 17 18 19 21 22 23 24 "
          ]
        }
      ]
    },
    {
      "cell_type": "markdown",
      "source": [
        "while"
      ],
      "metadata": {
        "id": "fMWX1-v7tS7A"
      }
    },
    {
      "cell_type": "code",
      "source": [
        "total = n =0\n",
        "while(n < 10):\n",
        "    n += 1\n",
        "    total += n\n",
        "print(total)  "
      ],
      "metadata": {
        "colab": {
          "base_uri": "https://localhost:8080/"
        },
        "id": "-Gn58uMstVvT",
        "outputId": "24bdf48f-0448-4d05-b078-b980597c153f"
      },
      "execution_count": 16,
      "outputs": [
        {
          "output_type": "stream",
          "name": "stdout",
          "text": [
            "55\n"
          ]
        }
      ]
    },
    {
      "cell_type": "code",
      "source": [
        "total = n =0\n",
        "while n<= 10:\n",
        "    total += n\n",
        "    n += 1\n",
        "print(total)"
      ],
      "metadata": {
        "colab": {
          "base_uri": "https://localhost:8080/"
        },
        "id": "Xxg9dj69twmv",
        "outputId": "68df5e25-f7cf-4797-8095-8fc70de4aa2b"
      },
      "execution_count": 18,
      "outputs": [
        {
          "output_type": "stream",
          "name": "stdout",
          "text": [
            "55\n"
          ]
        }
      ]
    },
    {
      "cell_type": "code",
      "source": [
        "total = n =0\n",
        "while(n <= 10):\n",
        "    total += n\n",
        "print(total)  "
      ],
      "metadata": {
        "colab": {
          "base_uri": "https://localhost:8080/",
          "height": 215
        },
        "id": "qsOkbys_ulN8",
        "outputId": "17d14b9c-54a0-4a98-97cb-7178de427559"
      },
      "execution_count": 19,
      "outputs": [
        {
          "output_type": "error",
          "ename": "KeyboardInterrupt",
          "evalue": "ignored",
          "traceback": [
            "\u001b[0;31m---------------------------------------------------------------------------\u001b[0m",
            "\u001b[0;31mKeyboardInterrupt\u001b[0m                         Traceback (most recent call last)",
            "\u001b[0;32m<ipython-input-19-ed7c5f4c6057>\u001b[0m in \u001b[0;36m<module>\u001b[0;34m()\u001b[0m\n\u001b[1;32m      1\u001b[0m \u001b[0mtotal\u001b[0m \u001b[0;34m=\u001b[0m \u001b[0mn\u001b[0m \u001b[0;34m=\u001b[0m\u001b[0;36m0\u001b[0m\u001b[0;34m\u001b[0m\u001b[0;34m\u001b[0m\u001b[0m\n\u001b[0;32m----> 2\u001b[0;31m \u001b[0;32mwhile\u001b[0m\u001b[0;34m(\u001b[0m\u001b[0mn\u001b[0m \u001b[0;34m<=\u001b[0m \u001b[0;36m10\u001b[0m\u001b[0;34m)\u001b[0m\u001b[0;34m:\u001b[0m\u001b[0;34m\u001b[0m\u001b[0;34m\u001b[0m\u001b[0m\n\u001b[0m\u001b[1;32m      3\u001b[0m     \u001b[0mtotal\u001b[0m \u001b[0;34m+=\u001b[0m \u001b[0mn\u001b[0m\u001b[0;34m\u001b[0m\u001b[0;34m\u001b[0m\u001b[0m\n\u001b[1;32m      4\u001b[0m \u001b[0mprint\u001b[0m\u001b[0;34m(\u001b[0m\u001b[0mtotal\u001b[0m\u001b[0;34m)\u001b[0m\u001b[0;34m\u001b[0m\u001b[0;34m\u001b[0m\u001b[0m\n",
            "\u001b[0;31mKeyboardInterrupt\u001b[0m: "
          ]
        }
      ]
    },
    {
      "cell_type": "markdown",
      "source": [
        "n!"
      ],
      "metadata": {
        "id": "pvFjhLx1vXOh"
      }
    },
    {
      "cell_type": "code",
      "source": [
        "total = i = 1\n",
        "n = int(input(\"請輸入正整數n的值：\"))\n",
        "while i<=n:\n",
        "    total *= i\n",
        "    i+=1\n",
        "print('%d!=%d' % (n, total))"
      ],
      "metadata": {
        "colab": {
          "base_uri": "https://localhost:8080/"
        },
        "id": "ONeKAjAQu9h8",
        "outputId": "e07fd133-5f8e-4443-8439-75f435e9909d"
      },
      "execution_count": 21,
      "outputs": [
        {
          "output_type": "stream",
          "name": "stdout",
          "text": [
            "請輸入正整數n的值：6\n",
            "6!=720\n"
          ]
        }
      ]
    },
    {
      "cell_type": "code",
      "source": [
        "sum = 0\n",
        "n = 50 \n",
        "while n > 0:\n",
        "    sum = sum + n\n",
        "    n = n - 2\n",
        "print('0~50的偶數和結果是',sum)\n",
        "\n",
        "sum = 0\n",
        "n = 49 \n",
        "while n > 0:\n",
        "    sum = sum + n\n",
        "    n = n - 2\n",
        "print('0~50的奇數和結果是',sum)"
      ],
      "metadata": {
        "colab": {
          "base_uri": "https://localhost:8080/"
        },
        "id": "_iqO6_w-wWlk",
        "outputId": "289b8ef1-d382-41c5-998c-750e4b326923"
      },
      "execution_count": 5,
      "outputs": [
        {
          "output_type": "stream",
          "name": "stdout",
          "text": [
            "0~50的偶數和結果是 650\n",
            "0~50的奇數和結果是 625\n"
          ]
        }
      ]
    },
    {
      "cell_type": "code",
      "source": [
        "n = int(input('請輸入正整數：'))\n",
        "for i in range(n,0,-1):\n",
        "    for j in range(i,0,-1):\n",
        "        print ('*',end=''),\n",
        "    print()\n",
        "\n",
        "n = int(input('請輸入正整數：'))\n",
        "for i in range(n,0,-1):\n",
        "    for j in range(i,0,-1):\n",
        "        print ('*',end=''),\n",
        "    print()"
      ],
      "metadata": {
        "colab": {
          "base_uri": "https://localhost:8080/"
        },
        "id": "oKEt4WCParaf",
        "outputId": "84af4b73-3810-4314-916d-736440e6b546"
      },
      "execution_count": 32,
      "outputs": [
        {
          "output_type": "stream",
          "name": "stdout",
          "text": [
            "請輸入正整數：7\n",
            "*******\n",
            "******\n",
            "*****\n",
            "****\n",
            "***\n",
            "**\n",
            "*\n",
            "請輸入正整數：5\n",
            "*****\n",
            "****\n",
            "***\n",
            "**\n",
            "*\n"
          ]
        }
      ]
    },
    {
      "cell_type": "code",
      "source": [
        "sum = 0\n",
        "for i in range(1,101):\n",
        "    if i % 3==0 or i % 7 ==0 :\n",
        "        sum += i\n",
        "print('數值 1~100 中,所有是 3 或 7 倍數的數之總和 ＝',sum)"
      ],
      "metadata": {
        "colab": {
          "base_uri": "https://localhost:8080/"
        },
        "id": "YSnZ_6pHhZyS",
        "outputId": "aae506ba-48c2-48b0-f8e3-959c7160fab6"
      },
      "execution_count": 30,
      "outputs": [
        {
          "output_type": "stream",
          "name": "stdout",
          "text": [
            "數值 1~100 中,所有是 3 或 7 倍數的數之總和 ＝ 2208\n"
          ]
        }
      ]
    },
    {
      "cell_type": "code",
      "source": [
        "a = int(input('請輸入正整數：'))\n",
        "b = 0\n",
        "print(a,'的因數有',end = '')\n",
        "for i in range(1,a+1):\n",
        "    if a % i ==0:\n",
        "        b += 1\n",
        "        print(i,end = ' ')\n",
        "if b == 2:\n",
        "    print()\n",
        "    print(a,'是質數')\n",
        "else:\n",
        "    print()\n",
        "    print(a,'不是質數')"
      ],
      "metadata": {
        "colab": {
          "base_uri": "https://localhost:8080/"
        },
        "id": "ObrCQNAwmoiU",
        "outputId": "3f0e38d4-23aa-4717-de0f-caf808443605"
      },
      "execution_count": 31,
      "outputs": [
        {
          "output_type": "stream",
          "name": "stdout",
          "text": [
            "請輸入正整數：12\n",
            "12 的因數有1 2 3 4 6 12 \n",
            "12 不是質數\n"
          ]
        }
      ]
    },
    {
      "cell_type": "code",
      "source": [
        "a = int(input('請輸入正整數：'))\n",
        "b = 0\n",
        "print(a,'的因數有',end = '')\n",
        "for i in range(1,a+1):\n",
        "    if a % i ==0:\n",
        "        b += 1\n",
        "        print(i,end = ' ')\n",
        "if b == 2:\n",
        "    print()\n",
        "    print(a,'是質數')\n",
        "else:\n",
        "    print()\n",
        "    print(a,'不是質數')"
      ],
      "metadata": {
        "colab": {
          "base_uri": "https://localhost:8080/"
        },
        "id": "1etGGZSfpB3S",
        "outputId": "39d01d1e-c456-4d35-97f4-0db57931f078"
      },
      "execution_count": 33,
      "outputs": [
        {
          "output_type": "stream",
          "name": "stdout",
          "text": [
            "請輸入正整數：11\n",
            "11 的因數有1 11 \n",
            "11 是質數\n"
          ]
        }
      ]
    },
    {
      "cell_type": "code",
      "source": [
        ""
      ],
      "metadata": {
        "id": "yJihc46-peKj"
      },
      "execution_count": null,
      "outputs": []
    }
  ]
}