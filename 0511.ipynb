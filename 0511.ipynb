{
  "nbformat": 4,
  "nbformat_minor": 0,
  "metadata": {
    "colab": {
      "name": "0511.ipynb",
      "provenance": [],
      "authorship_tag": "ABX9TyMQO/4awVqqmAabyrzEhP4h",
      "include_colab_link": true
    },
    "kernelspec": {
      "name": "python3",
      "display_name": "Python 3"
    },
    "language_info": {
      "name": "python"
    }
  },
  "cells": [
    {
      "cell_type": "markdown",
      "metadata": {
        "id": "view-in-github",
        "colab_type": "text"
      },
      "source": [
        "<a href=\"https://colab.research.google.com/github/siyuhedy/Introduction-to-Computers/blob/main/0511.ipynb\" target=\"_parent\"><img src=\"https://colab.research.google.com/assets/colab-badge.svg\" alt=\"Open In Colab\"/></a>"
      ]
    },
    {
      "cell_type": "code",
      "execution_count": 1,
      "metadata": {
        "colab": {
          "base_uri": "https://localhost:8080/"
        },
        "id": "ozSy989Mg3J8",
        "outputId": "2c9fe60b-91d3-460d-f654-2c2772729e6b"
      },
      "outputs": [
        {
          "output_type": "stream",
          "name": "stdout",
          "text": [
            "test\n"
          ]
        }
      ],
      "source": [
        "print('test')"
      ]
    },
    {
      "cell_type": "code",
      "source": [
        "temp = float(input('請輸入你的體溫'))\n",
        "if temp >= 37.5:\n",
        "    print('體溫過高！')\n",
        "elif temp >= 37 and temp <= 37.4:\n",
        "    print('體溫略高！')\n",
        "elif temp >= 34 and temp <= 36.9:\n",
        "    print('體溫正常！')\n",
        "else:\n",
        "    print('體溫異常，請重新測量！')"
      ],
      "metadata": {
        "colab": {
          "base_uri": "https://localhost:8080/"
        },
        "id": "VjyMAl66hHmj",
        "outputId": "87a7153e-075f-4a2b-e0da-0faa69153af1"
      },
      "execution_count": 4,
      "outputs": [
        {
          "output_type": "stream",
          "name": "stdout",
          "text": [
            "請輸入你的體溫37.5\n",
            "體溫過高！\n"
          ]
        }
      ]
    },
    {
      "cell_type": "code",
      "source": [
        "money = int(input('請輸入購物金額'))\n",
        "if(money>= 10000):\n",
        "  if(money >= 100000):\n",
        "    print(\"八折\",money * 0.8,end= \"元\\n\")\n",
        "  elif(money >= 50000):\n",
        "    print(\"八五折\",money * 0.85,end= \"元\\n\")\n",
        "  elif(money >= 30000):\n",
        "    print(\"九折\",money * 0.9,end= \"元\\n\")\n",
        "  else:\n",
        "    print(\"九五折\",money * 0.95,end= \"元\\n\")\n",
        "else:\n",
        "    print('沒打折',money, end= \"元\\n\")"
      ],
      "metadata": {
        "colab": {
          "base_uri": "https://localhost:8080/"
        },
        "id": "-ocIN0pijwr0",
        "outputId": "aa8e9d8f-9c95-41de-9603-9540fef2ef0e"
      },
      "execution_count": 10,
      "outputs": [
        {
          "output_type": "stream",
          "name": "stdout",
          "text": [
            "請輸入購物金額50000\n",
            "八五折 42500.0元\n"
          ]
        }
      ]
    },
    {
      "cell_type": "code",
      "source": [
        "score = int(input('請輸入成績'))\n",
        "if(score >= 90):\n",
        "    print('A')\n",
        "elif(score>=80 and score<=89):\n",
        "    print('B')\n",
        "elif(score>=70 and score<=79):  \n",
        "    print('C')\n",
        "elif(score>=60 and score<=69):  \n",
        "    print('D')\n",
        "else:\n",
        "    print('E')"
      ],
      "metadata": {
        "colab": {
          "base_uri": "https://localhost:8080/"
        },
        "id": "U-dX9GPYmVNv",
        "outputId": "a9d7872b-017e-4257-e17d-cdd498082033"
      },
      "execution_count": 13,
      "outputs": [
        {
          "output_type": "stream",
          "name": "stdout",
          "text": [
            "請輸入成績50\n",
            "E\n"
          ]
        }
      ]
    },
    {
      "cell_type": "code",
      "source": [
        "season = int(input('請輸入月份'))\n",
        "if(season == 3 or season == 4 or season == 5 ):\n",
        "    print(season,'月是春天！')\n",
        "elif(season == 6 or season == 7 or season == 8 ):\n",
        "    print(season,'月是夏天！')\n",
        "elif(season == 9 or season == 10 or season == 11 ):\n",
        "    print(season,'月是秋天！')\n",
        "elif(season == 12 or season == 1 or season == 2 ):\n",
        "    print(season,'月是冬天！')\n",
        "else:\n",
        "    print('月份不在範圍內')"
      ],
      "metadata": {
        "colab": {
          "base_uri": "https://localhost:8080/"
        },
        "id": "6SGZesUrsETL",
        "outputId": "4933412b-18df-44cc-eddb-34006708d08c"
      },
      "execution_count": 20,
      "outputs": [
        {
          "output_type": "stream",
          "name": "stdout",
          "text": [
            "請輸入月份1\n",
            "1 月是冬天！\n"
          ]
        }
      ]
    },
    {
      "cell_type": "code",
      "source": [
        "income = int(input('請輸入今年收入淨額：'))\n",
        "if(income >= 2000000):\n",
        "    print('付稅金額:',income * 0.3,end= \"元\\n\")\n",
        "elif(income >= 1000000):\n",
        "    print('付稅金額:',income * 0.21,end= \"元\\n\")\n",
        "elif(income >= 600000):\n",
        "    print('付稅金額:',income * 0.13,end= \"元\\n\")\n",
        "elif(income >= 300000):\n",
        "    print('付稅金額:',income * 0.06,end= \"元\\n\")   \n",
        "else:\n",
        "    print('付稅金額:',income * 0,end= \"元\\n\")   "
      ],
      "metadata": {
        "colab": {
          "base_uri": "https://localhost:8080/"
        },
        "id": "j58xJK-CtMUh",
        "outputId": "11852d5c-ad0c-4976-e71c-e96e76991f1f"
      },
      "execution_count": 23,
      "outputs": [
        {
          "output_type": "stream",
          "name": "stdout",
          "text": [
            "請輸入今年收入淨額：2000000\n",
            "付稅金額: 600000.0元\n"
          ]
        }
      ]
    },
    {
      "cell_type": "code",
      "source": [
        ""
      ],
      "metadata": {
        "id": "W4O2w4pd0p_x"
      },
      "execution_count": null,
      "outputs": []
    }
  ]
}