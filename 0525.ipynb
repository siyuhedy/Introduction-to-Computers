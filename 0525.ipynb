{
  "nbformat": 4,
  "nbformat_minor": 0,
  "metadata": {
    "colab": {
      "name": "0525.ipynb",
      "provenance": [],
      "authorship_tag": "ABX9TyNsbAyjP7DimLgJz/5CXR30",
      "include_colab_link": true
    },
    "kernelspec": {
      "name": "python3",
      "display_name": "Python 3"
    },
    "language_info": {
      "name": "python"
    }
  },
  "cells": [
    {
      "cell_type": "markdown",
      "metadata": {
        "id": "view-in-github",
        "colab_type": "text"
      },
      "source": [
        "<a href=\"https://colab.research.google.com/github/siyuhedy/Introduction-to-Computers/blob/main/0525.ipynb\" target=\"_parent\"><img src=\"https://colab.research.google.com/assets/colab-badge.svg\" alt=\"Open In Colab\"/></a>"
      ]
    },
    {
      "cell_type": "code",
      "execution_count": 1,
      "metadata": {
        "colab": {
          "base_uri": "https://localhost:8080/"
        },
        "id": "evvR_D-KjkFL",
        "outputId": "b2a90213-d023-4a2c-fb68-578cbcd5a4f1"
      },
      "outputs": [
        {
          "output_type": "stream",
          "name": "stdout",
          "text": [
            "hi\n"
          ]
        }
      ],
      "source": [
        "print('hi')"
      ]
    },
    {
      "cell_type": "code",
      "source": [
        "sum = 0\n",
        "test = int(input('請輸入一個正整數：'))\n",
        "for n in range(1,test+1):\n",
        "    sum = sum+n\n",
        "print('1到',test,'的整數和為',sum )"
      ],
      "metadata": {
        "colab": {
          "base_uri": "https://localhost:8080/"
        },
        "id": "d1mk9AZGkAKS",
        "outputId": "f9322631-b3e9-4f47-de27-fbafae00dbb9"
      },
      "execution_count": 9,
      "outputs": [
        {
          "output_type": "stream",
          "name": "stdout",
          "text": [
            "請輸入一個正整數：50\n",
            "1到 50 的整數和為 1275\n"
          ]
        }
      ]
    },
    {
      "cell_type": "code",
      "source": [
        "sum = 0\n",
        "test = int(input('請輸入一個正整數：'))\n",
        "for m in range(1,test+1):\n",
        "    sum = sum+m\n",
        "    print('1到'+str(m)+'的整數和為:',sum )"
      ],
      "metadata": {
        "colab": {
          "base_uri": "https://localhost:8080/"
        },
        "id": "AzQ27gmUmtFj",
        "outputId": "11e74f03-4732-46da-ff2e-f3936cce7ee2"
      },
      "execution_count": 12,
      "outputs": [
        {
          "output_type": "stream",
          "name": "stdout",
          "text": [
            "請輸入一個正整數：50\n",
            "1到1的整數和為: 1\n",
            "1到2的整數和為: 3\n",
            "1到3的整數和為: 6\n",
            "1到4的整數和為: 10\n",
            "1到5的整數和為: 15\n",
            "1到6的整數和為: 21\n",
            "1到7的整數和為: 28\n",
            "1到8的整數和為: 36\n",
            "1到9的整數和為: 45\n",
            "1到10的整數和為: 55\n",
            "1到11的整數和為: 66\n",
            "1到12的整數和為: 78\n",
            "1到13的整數和為: 91\n",
            "1到14的整數和為: 105\n",
            "1到15的整數和為: 120\n",
            "1到16的整數和為: 136\n",
            "1到17的整數和為: 153\n",
            "1到18的整數和為: 171\n",
            "1到19的整數和為: 190\n",
            "1到20的整數和為: 210\n",
            "1到21的整數和為: 231\n",
            "1到22的整數和為: 253\n",
            "1到23的整數和為: 276\n",
            "1到24的整數和為: 300\n",
            "1到25的整數和為: 325\n",
            "1到26的整數和為: 351\n",
            "1到27的整數和為: 378\n",
            "1到28的整數和為: 406\n",
            "1到29的整數和為: 435\n",
            "1到30的整數和為: 465\n",
            "1到31的整數和為: 496\n",
            "1到32的整數和為: 528\n",
            "1到33的整數和為: 561\n",
            "1到34的整數和為: 595\n",
            "1到35的整數和為: 630\n",
            "1到36的整數和為: 666\n",
            "1到37的整數和為: 703\n",
            "1到38的整數和為: 741\n",
            "1到39的整數和為: 780\n",
            "1到40的整數和為: 820\n",
            "1到41的整數和為: 861\n",
            "1到42的整數和為: 903\n",
            "1到43的整數和為: 946\n",
            "1到44的整數和為: 990\n",
            "1到45的整數和為: 1035\n",
            "1到46的整數和為: 1081\n",
            "1到47的整數和為: 1128\n",
            "1到48的整數和為: 1176\n",
            "1到49的整數和為: 1225\n",
            "1到50的整數和為: 1275\n"
          ]
        }
      ]
    },
    {
      "cell_type": "code",
      "source": [
        "for j in range(1,5):\n",
        "    print(j)\n",
        "    for i in range(1,3):\n",
        "        k = i+j\n",
        "        print(j,'*',i,'=',k)"
      ],
      "metadata": {
        "colab": {
          "base_uri": "https://localhost:8080/"
        },
        "id": "ZbeoSLFhm7MK",
        "outputId": "38e10c19-b842-42bd-dbc3-1d00f0641e05"
      },
      "execution_count": 7,
      "outputs": [
        {
          "output_type": "stream",
          "name": "stdout",
          "text": [
            "1\n",
            "1 * 1 = 2\n",
            "1 * 2 = 3\n",
            "2\n",
            "2 * 1 = 3\n",
            "2 * 2 = 4\n",
            "3\n",
            "3 * 1 = 4\n",
            "3 * 2 = 5\n",
            "4\n",
            "4 * 1 = 5\n",
            "4 * 2 = 6\n"
          ]
        }
      ]
    },
    {
      "cell_type": "code",
      "source": [
        "for j in range(1,6):\n",
        "    print(j)\n",
        "    for i in range(1,3):\n",
        "        k = i+j\n",
        "        print(j,'*',i,'=',k)"
      ],
      "metadata": {
        "colab": {
          "base_uri": "https://localhost:8080/"
        },
        "id": "p7i-_PDinds4",
        "outputId": "858b4930-2e5f-4781-a40e-6f455de7ec9b"
      },
      "execution_count": 14,
      "outputs": [
        {
          "output_type": "stream",
          "name": "stdout",
          "text": [
            "1\n",
            "1 * 1 = 2\n",
            "1 * 2 = 3\n",
            "2\n",
            "2 * 1 = 3\n",
            "2 * 2 = 4\n",
            "3\n",
            "3 * 1 = 4\n",
            "3 * 2 = 5\n",
            "4\n",
            "4 * 1 = 5\n",
            "4 * 2 = 6\n",
            "5\n",
            "5 * 1 = 6\n",
            "5 * 2 = 7\n"
          ]
        }
      ]
    },
    {
      "cell_type": "code",
      "source": [
        "for i in range(1,5):\n",
        "    if(i==3):\n",
        "          break\n",
        "    print(i,end = ' ')\n"
      ],
      "metadata": {
        "colab": {
          "base_uri": "https://localhost:8080/"
        },
        "id": "YUScthpOpHel",
        "outputId": "8431db5e-9d61-4b02-8680-af9f7059de12"
      },
      "execution_count": 18,
      "outputs": [
        {
          "output_type": "stream",
          "name": "stdout",
          "text": [
            "1 2 "
          ]
        }
      ]
    },
    {
      "cell_type": "code",
      "source": [
        "count = 0\n",
        "for string in 'hello':\n",
        "    count+=1\n",
        "    if string == 'o':\n",
        "        break\n",
        "    print(string)\n",
        "print('迴圈結束')\n",
        "print('迴圈執行了 %d 次' %count) "
      ],
      "metadata": {
        "colab": {
          "base_uri": "https://localhost:8080/"
        },
        "id": "69VMrxDrpg7U",
        "outputId": "7c94b37b-13e0-4adb-f19b-cbaf437f07df"
      },
      "execution_count": 25,
      "outputs": [
        {
          "output_type": "stream",
          "name": "stdout",
          "text": [
            "h\n",
            "e\n",
            "l\n",
            "l\n",
            "迴圈結束\n",
            "迴圈執行了 5 次\n"
          ]
        }
      ]
    },
    {
      "cell_type": "code",
      "source": [
        "count = 0\n",
        "for string in '測試看看！':\n",
        "    count+=1\n",
        "    if string == '看':\n",
        "        break\n",
        "    print(string)\n",
        "print('迴圈結束')\n",
        "print('迴圈執行了 %d 次' %count) "
      ],
      "metadata": {
        "colab": {
          "base_uri": "https://localhost:8080/"
        },
        "id": "A8XUzCB1rFNW",
        "outputId": "11faacbf-7f5b-4128-8f01-bcfc6690bbbb"
      },
      "execution_count": 26,
      "outputs": [
        {
          "output_type": "stream",
          "name": "stdout",
          "text": [
            "測\n",
            "試\n",
            "迴圈結束\n",
            "迴圈執行了 3 次\n"
          ]
        }
      ]
    },
    {
      "cell_type": "code",
      "source": [
        "for j in range(2,10):\n",
        "    for i in range(1,10):\n",
        "        print('%d*%d=%2d   '%(j,i,j*i),end='')\n",
        "    print( )"
      ],
      "metadata": {
        "colab": {
          "base_uri": "https://localhost:8080/"
        },
        "id": "MfnFSDAOskTC",
        "outputId": "d41e6874-10e3-4191-a8a4-0cc885aa53e6"
      },
      "execution_count": 41,
      "outputs": [
        {
          "output_type": "stream",
          "name": "stdout",
          "text": [
            "2*1= 2   2*2= 4   2*3= 6   2*4= 8   2*5=10   2*6=12   2*7=14   2*8=16   2*9=18   \n",
            "3*1= 3   3*2= 6   3*3= 9   3*4=12   3*5=15   3*6=18   3*7=21   3*8=24   3*9=27   \n",
            "4*1= 4   4*2= 8   4*3=12   4*4=16   4*5=20   4*6=24   4*7=28   4*8=32   4*9=36   \n",
            "5*1= 5   5*2=10   5*3=15   5*4=20   5*5=25   5*6=30   5*7=35   5*8=40   5*9=45   \n",
            "6*1= 6   6*2=12   6*3=18   6*4=24   6*5=30   6*6=36   6*7=42   6*8=48   6*9=54   \n",
            "7*1= 7   7*2=14   7*3=21   7*4=28   7*5=35   7*6=42   7*7=49   7*8=56   7*9=63   \n",
            "8*1= 8   8*2=16   8*3=24   8*4=32   8*5=40   8*6=48   8*7=56   8*8=64   8*9=72   \n",
            "9*1= 9   9*2=18   9*3=27   9*4=36   9*5=45   9*6=54   9*7=63   9*8=72   9*9=81   \n"
          ]
        }
      ]
    },
    {
      "cell_type": "code",
      "source": [
        "a = int(input('請輸入 a 的值：'))\n",
        "b = int(input('請輸入 b 的值：'))\n",
        "min=1\n",
        "for n in range(1,a*b+1):\n",
        "    if n%a==0 and n%b==0 :\n",
        "        min=n\n",
        "        break\n",
        "print(a,'和',b,'的最小公倍數＝',min)"
      ],
      "metadata": {
        "colab": {
          "base_uri": "https://localhost:8080/"
        },
        "id": "xEM4oSCKw8Qs",
        "outputId": "ce2976aa-b2be-496c-af06-7395d1dcb696"
      },
      "execution_count": 54,
      "outputs": [
        {
          "output_type": "stream",
          "name": "stdout",
          "text": [
            "請輸入 a 的值：4\n",
            "請輸入 b 的值：6\n",
            "4 和 6 的最小公倍數＝ 12\n"
          ]
        }
      ]
    },
    {
      "cell_type": "code",
      "source": [
        "a = int(input('請輸入 a 的值：'))\n",
        "b = int(input('請輸入 b 的值：'))\n",
        "min=1\n",
        "for n in range(1,a*b+1):\n",
        "    if n%a==0 and n%b==0 :\n",
        "        min=n\n",
        "        break\n",
        "print(a,'和',b,'的最小公倍數＝',min)"
      ],
      "metadata": {
        "colab": {
          "base_uri": "https://localhost:8080/"
        },
        "id": "epDw57un0PN1",
        "outputId": "3d681728-287c-40b1-aaac-6976fc2dfa8d"
      },
      "execution_count": 55,
      "outputs": [
        {
          "output_type": "stream",
          "name": "stdout",
          "text": [
            "請輸入 a 的值：9\n",
            "請輸入 b 的值：15\n",
            "9 和 15 的最小公倍數＝ 45\n"
          ]
        }
      ]
    },
    {
      "cell_type": "code",
      "source": [
        "a = int(input('請輸入正整數：'))\n",
        "for a in range(1,a+1):\n",
        "    if((a%5) == 0):\n",
        "        continue\n",
        "    print(a,end = ' ')"
      ],
      "metadata": {
        "colab": {
          "base_uri": "https://localhost:8080/"
        },
        "id": "6TI3Cgy13NRy",
        "outputId": "a3f92a0d-edbc-43ec-ee4b-9a4839d102ce"
      },
      "execution_count": 61,
      "outputs": [
        {
          "output_type": "stream",
          "name": "stdout",
          "text": [
            "請輸入正整數：12\n",
            "1 2 3 4 6 7 8 9 11 12 "
          ]
        }
      ]
    },
    {
      "cell_type": "code",
      "source": [
        "a = int(input('請輸入正整數：'))\n",
        "for a in range(1,a+1):\n",
        "    if((a%5) == 0):\n",
        "        continue\n",
        "    print(a,end = ' ')"
      ],
      "metadata": {
        "colab": {
          "base_uri": "https://localhost:8080/"
        },
        "id": "n9YboB6F5SDU",
        "outputId": "1d23c4ff-ab6a-4b29-8f3d-4847d49acfc4"
      },
      "execution_count": 62,
      "outputs": [
        {
          "output_type": "stream",
          "name": "stdout",
          "text": [
            "請輸入正整數：21\n",
            "1 2 3 4 6 7 8 9 11 12 13 14 16 17 18 19 21 "
          ]
        }
      ]
    },
    {
      "cell_type": "code",
      "source": [
        ""
      ],
      "metadata": {
        "id": "m0up3RDt7gBW"
      },
      "execution_count": null,
      "outputs": []
    }
  ]
}